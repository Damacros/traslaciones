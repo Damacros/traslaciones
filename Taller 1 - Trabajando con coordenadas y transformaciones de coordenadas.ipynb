{
 "cells": [
  {
   "cell_type": "markdown",
   "id": "40dacb44",
   "metadata": {},
   "source": [
    "<h2>Taller 1 - Trabajando con coordenadas y transformaciones de coordenadas</h2>\n",
    "<br>Autor: Claudio Morales D.\n",
    "<br>Centro de Automatización y Robótica Inacap\n",
    "<br>Santiago, Chile, enero 2023\n"
   ]
  },
  {
   "cell_type": "markdown",
   "id": "b05cacc3",
   "metadata": {},
   "source": [
    "<h3>1. Funciones para transformaciones de coordenadas en 2D y 3D </h3>\n",
    "<br>Las siguientes funciones utilizan la librería sympy para trabajar con rotaciones, traslaciones y matrices de transformaciones de coordenadas homogeneas en 2D y 3D.\n",
    "<br>Para una explicación conceptual sobre estas funciones, revise este video: <a>https://youtu.be/aut9sTR4y8E</a>\n"
   ]
  },
  {
   "cell_type": "code",
   "execution_count": 3,
   "id": "4f92f697",
   "metadata": {},
   "outputs": [],
   "source": [
    "# Requiere sympy, librería para cálculo simbólico\n",
    "import sympy"
   ]
  },
  {
   "cell_type": "code",
   "execution_count": 4,
   "id": "457cd561",
   "metadata": {},
   "outputs": [],
   "source": [
    "# translation2D(x,y) construye el vector de traslación en 2D\n",
    "# Parametros: x, y pueden ser magnitudes numéricas o variables simbólicas de sympy.\n",
    "# Retorna: matriz de sympy 2x1 elementos.\n",
    "def translation2D(x,y):\n",
    "    return sympy.Matrix([x,y])"
   ]
  },
  {
   "cell_type": "code",
   "execution_count": 5,
   "id": "3613c980",
   "metadata": {},
   "outputs": [],
   "source": [
    "# rotation2D(theta) construye la matriz de traslación en 2D a partir del ángulo theta.\n",
    "# Parametros: theta representa el ángulo de rotación en radianes o una variable simbólica de sympy.\n",
    "# Retorna: matriz de sympy con 2x2 elementos.\n",
    "def rotation2D(theta):\n",
    "    return sympy.Matrix([[sympy.cos(theta),-sympy.sin(theta)],\n",
    "                      [sympy.sin(theta),sympy.cos(theta)]])"
   ]
  },
  {
   "cell_type": "code",
   "execution_count": 6,
   "id": "7134e698",
   "metadata": {},
   "outputs": [],
   "source": [
    "# transform2D(x,y,theta) contruye la matriz de coordenadas homogeneas en 2D.\n",
    "# Parámetros: x, y representan el desplazamiento como magnitudes numéricas o variables simbólicas de sympy.\n",
    "#             theta representa el ángulo de rotación en radianes o una variable simbólica de sympy.\n",
    "# Retorna: matriz de sympy con 3x3 elementos.\n",
    "def transform2D(x,y,theta):\n",
    "    t = translation2D(x,y)\n",
    "    R = rotation2D(theta)\n",
    "    return sympy.Matrix(sympy.BlockMatrix([R,t])).row_insert(2,sympy.Matrix([[0,0,1]]))"
   ]
  },
  {
   "cell_type": "code",
   "execution_count": 7,
   "id": "2690b66d",
   "metadata": {},
   "outputs": [],
   "source": [
    "# translation(x,y,z) construye el vector de traslación en 3D\n",
    "# Parametros: x, y, z pueden ser magnitudes numéricas o variables simbólicas de sympy.\n",
    "# Retorna: matriz de sympy 3x1 elementos.\n",
    "def translation(x,y,z):\n",
    "    return sympy.Matrix([x,y,z])"
   ]
  },
  {
   "cell_type": "code",
   "execution_count": 8,
   "id": "479751f4",
   "metadata": {},
   "outputs": [],
   "source": [
    "# rotation(alpha,beta,gamma) construye la matriz de traslación en 3D a partir de los ángulos de Euler.\n",
    "# Parametros: alpha,beta,gamma en radianes o variables simbólicas de sympy.\n",
    "# Retorna: matriz de sympy con 3x3 elementos.\n",
    "def rotation(alpha,beta,gamma):\n",
    "    Rx = sympy.Matrix([[1, 0, 0],\n",
    "                      [0,sympy.cos(alpha),-sympy.sin(alpha)],\n",
    "                      [0,sympy.sin(alpha),sympy.cos(alpha)]])\n",
    "    Ry = sympy.Matrix([[sympy.cos(beta),0,sympy.sin(beta)],\n",
    "                      [0, 1, 0],\n",
    "                      [-sympy.sin(beta),0,sympy.cos(beta)]])\n",
    "    Rz = sympy.Matrix([[sympy.cos(gamma),-sympy.sin(gamma), 0],\n",
    "                      [sympy.sin(gamma),sympy.cos(gamma),0],\n",
    "                      [0, 0, 1]])\n",
    "    return Rx*Ry*Rz"
   ]
  },
  {
   "cell_type": "code",
   "execution_count": 9,
   "id": "9920eb30",
   "metadata": {},
   "outputs": [],
   "source": [
    "# transform3D(x,y,z,alpha,beta,gamma) contruye la matriz de coordenadas homogeneas en 3D.\n",
    "# Parámetros: x, y, z representan el desplazamiento como magnitudes numéricas o variables simbólicas de sympy.\n",
    "#             alpha,beta,gamma en radianes o una variables simbólicas de sympy.\n",
    "# Retorna: matriz de sympy con 4x4 elementos.\n",
    "def transform(x,y,z,alpha,beta,gamma):\n",
    "    t = translation(x,y,z)\n",
    "    R = rotation(alpha,beta,gamma)\n",
    "    return sympy.Matrix(sympy.BlockMatrix([R,t])).row_insert(3,sympy.Matrix([[0,0,0,1]]))"
   ]
  },
  {
   "cell_type": "markdown",
   "id": "8775a536",
   "metadata": {},
   "source": [
    "Verifiquemos cómo funciona con algunos ejemplos en 2D"
   ]
  },
  {
   "cell_type": "code",
   "execution_count": 10,
   "id": "b4cccd44",
   "metadata": {},
   "outputs": [
    {
     "data": {
      "text/latex": [
       "$\\displaystyle \\left[\\begin{matrix}3\\\\2\\end{matrix}\\right]$"
      ],
      "text/plain": [
       "Matrix([\n",
       "[3],\n",
       "[2]])"
      ]
     },
     "execution_count": 10,
     "metadata": {},
     "output_type": "execute_result"
    }
   ],
   "source": [
    "translation2D(3,2)"
   ]
  },
  {
   "cell_type": "code",
   "execution_count": 11,
   "id": "c12bb3cf",
   "metadata": {},
   "outputs": [
    {
     "data": {
      "text/latex": [
       "$\\displaystyle \\left[\\begin{matrix}0.707107250279226 & -0.707106312093558\\\\0.707106312093558 & 0.707107250279226\\end{matrix}\\right]$"
      ],
      "text/plain": [
       "Matrix([\n",
       "[0.707107250279226, -0.707106312093558],\n",
       "[0.707106312093558,  0.707107250279226]])"
      ]
     },
     "execution_count": 11,
     "metadata": {},
     "output_type": "execute_result"
    }
   ],
   "source": [
    "ang_deg = 45\n",
    "ang_rad = ang_deg * 3.14159 / 180\n",
    "rotation2D(ang_rad)"
   ]
  },
  {
   "cell_type": "code",
   "execution_count": 12,
   "id": "29c410e9",
   "metadata": {
    "scrolled": true
   },
   "outputs": [
    {
     "data": {
      "text/latex": [
       "$\\displaystyle \\left[\\begin{matrix}1 & 0 & 3\\\\0 & 1 & 2\\\\0 & 0 & 1\\end{matrix}\\right]$"
      ],
      "text/plain": [
       "Matrix([\n",
       "[1, 0, 3],\n",
       "[0, 1, 2],\n",
       "[0, 0, 1]])"
      ]
     },
     "execution_count": 12,
     "metadata": {},
     "output_type": "execute_result"
    }
   ],
   "source": [
    "transform2D(3,2,0)"
   ]
  },
  {
   "cell_type": "markdown",
   "id": "86fa1349",
   "metadata": {},
   "source": [
    "<h3>2. Usando transformaciones para obtener coordenadas desconocidas en 2D </h3>\n",
    "<br>Para utilizar matrices de transformación de coordenadas homogeneas empleamos la convención:\n",
    "<br>'origen_T_destino' para representar la rotación y traslación de 'destino' respecto del sistema de coordenadas de 'origen'."
   ]
  },
  {
   "cell_type": "code",
   "execution_count": 13,
   "id": "d655befc",
   "metadata": {},
   "outputs": [],
   "source": [
    "# Problema: conocidas las transformaciones 'camara_T_robot' y 'camara_T_objeto',\n",
    "# calcular las coordenadas de traslación de 'objeto' respecto de 'robot', es decir, la transformación 'robot_T_objeto'."
   ]
  },
  {
   "cell_type": "code",
   "execution_count": 33,
   "id": "d0d51033",
   "metadata": {},
   "outputs": [
    {
     "data": {
      "text/latex": [
       "$\\displaystyle \\left[\\begin{matrix}-1 & 0 & 0.5\\\\0 & -1 & 0.5\\\\0 & 0 & 1\\end{matrix}\\right]$"
      ],
      "text/plain": [
       "Matrix([\n",
       "[-1,  0, 0.5],\n",
       "[ 0, -1, 0.5],\n",
       "[ 0,  0,   1]])"
      ]
     },
     "execution_count": 33,
     "metadata": {},
     "output_type": "execute_result"
    }
   ],
   "source": [
    "camara_T_robot = transform2D(0.5,0.5,sympy.pi)\n",
    "camara_T_robot"
   ]
  },
  {
   "cell_type": "code",
   "execution_count": 34,
   "id": "c43fea42",
   "metadata": {},
   "outputs": [
    {
     "data": {
      "text/latex": [
       "$\\displaystyle \\left[\\begin{matrix}1 & 0 & 0.225\\\\0 & 1 & 0.3\\\\0 & 0 & 1\\end{matrix}\\right]$"
      ],
      "text/plain": [
       "Matrix([\n",
       "[1, 0, 0.225],\n",
       "[0, 1,   0.3],\n",
       "[0, 0,     1]])"
      ]
     },
     "execution_count": 34,
     "metadata": {},
     "output_type": "execute_result"
    }
   ],
   "source": [
    "camara_T_objeto = transform2D(0.225, 0.3, 0)\n",
    "camara_T_objeto"
   ]
  },
  {
   "cell_type": "code",
   "execution_count": 35,
   "id": "60c14e3a",
   "metadata": {},
   "outputs": [
    {
     "data": {
      "text/latex": [
       "$\\displaystyle \\left[\\begin{matrix}-1 & 0 & 0.5\\\\0 & -1 & 0.5\\\\0 & 0 & 1\\end{matrix}\\right]$"
      ],
      "text/plain": [
       "Matrix([\n",
       "[-1,  0, 0.5],\n",
       "[ 0, -1, 0.5],\n",
       "[ 0,  0,   1]])"
      ]
     },
     "execution_count": 35,
     "metadata": {},
     "output_type": "execute_result"
    }
   ],
   "source": [
    "robot_T_camara = camara_T_robot.inv()\n",
    "robot_T_camara"
   ]
  },
  {
   "cell_type": "code",
   "execution_count": 36,
   "id": "23aa093d",
   "metadata": {},
   "outputs": [
    {
     "data": {
      "text/latex": [
       "$\\displaystyle \\left[\\begin{matrix}-1 & 0 & 0.275\\\\0 & -1 & 0.2\\\\0 & 0 & 1\\end{matrix}\\right]$"
      ],
      "text/plain": [
       "Matrix([\n",
       "[-1,  0, 0.275],\n",
       "[ 0, -1,   0.2],\n",
       "[ 0,  0,     1]])"
      ]
     },
     "execution_count": 36,
     "metadata": {},
     "output_type": "execute_result"
    }
   ],
   "source": [
    "robot_T_objeto = robot_T_camara * camara_T_objeto\n",
    "robot_T_objeto"
   ]
  },
  {
   "cell_type": "markdown",
   "id": "db721263",
   "metadata": {},
   "source": [
    "<h3>3. Usando transformaciones de coordenadas en 3D </h3>\n",
    "<br>Desafío: Emplee ahora el procedimiento del punto 2 para obtener las transformaciones de coordenadas en 3 dimensiones.\n",
    "<br>¿Cómo se puede calcular la distancia entre el objeto y la cámara?"
   ]
  },
  {
   "cell_type": "code",
   "execution_count": 37,
   "id": "343c2c2d",
   "metadata": {},
   "outputs": [
    {
     "data": {
      "text/latex": [
       "$\\displaystyle \\left[\\begin{matrix}-1 & 0 & 1.225\\\\0 & -1 & -0.55\\\\0 & 0 & 1\\end{matrix}\\right]$"
      ],
      "text/plain": [
       "Matrix([\n",
       "[-1,  0, 1.225],\n",
       "[ 0, -1, -0.55],\n",
       "[ 0,  0,     1]])"
      ]
     },
     "execution_count": 37,
     "metadata": {},
     "output_type": "execute_result"
    }
   ],
   "source": [
    "camara_t_robot = transform2D(1.225,-0.550,sympy.pi)\n",
    "camara_t_robot "
   ]
  },
  {
   "cell_type": "code",
   "execution_count": 38,
   "id": "3926e82f",
   "metadata": {},
   "outputs": [
    {
     "data": {
      "text/latex": [
       "$\\displaystyle \\left[\\begin{matrix}0.839453246435207 & -0.543431915744182 & 0.51898\\\\0.543431915744182 & 0.839453246435207 & 0\\\\0 & 0 & 1\\end{matrix}\\right]$"
      ],
      "text/plain": [
       "Matrix([\n",
       "[0.839453246435207, -0.543431915744182, 0.51898],\n",
       "[0.543431915744182,  0.839453246435207,       0],\n",
       "[                0,                  0,       1]])"
      ]
     },
     "execution_count": 38,
     "metadata": {},
     "output_type": "execute_result"
    }
   ],
   "source": [
    "camara_t_pelota = transform2D(0.51898,0,0.57452)\n",
    "camara_t_pelota"
   ]
  },
  {
   "cell_type": "code",
   "execution_count": 39,
   "id": "5abc3aab",
   "metadata": {},
   "outputs": [
    {
     "data": {
      "text/latex": [
       "$\\displaystyle \\left[\\begin{matrix}-1 & 0 & 1.225\\\\0 & -1 & -0.55\\\\0 & 0 & 1\\end{matrix}\\right]$"
      ],
      "text/plain": [
       "Matrix([\n",
       "[-1,  0, 1.225],\n",
       "[ 0, -1, -0.55],\n",
       "[ 0,  0,     1]])"
      ]
     },
     "execution_count": 39,
     "metadata": {},
     "output_type": "execute_result"
    }
   ],
   "source": [
    "robot_t_camara = camara_t_robot.inv()\n",
    "robot_t_camara"
   ]
  },
  {
   "cell_type": "code",
   "execution_count": 44,
   "id": "27e49fd9",
   "metadata": {},
   "outputs": [
    {
     "data": {
      "text/latex": [
       "$\\displaystyle \\left[\\begin{matrix}-0.839453246435207 & 0.543431915744182 & 0.70602\\\\-0.543431915744182 & -0.839453246435207 & -0.55\\\\0 & 0 & 1\\end{matrix}\\right]$"
      ],
      "text/plain": [
       "Matrix([\n",
       "[-0.839453246435207,  0.543431915744182, 0.70602],\n",
       "[-0.543431915744182, -0.839453246435207,   -0.55],\n",
       "[                 0,                  0,       1]])"
      ]
     },
     "execution_count": 44,
     "metadata": {},
     "output_type": "execute_result"
    }
   ],
   "source": [
    "robot_t_pelota = robot_t_camara * camara_t_pelota\n",
    "robot_t_pelota"
   ]
  },
  {
   "cell_type": "code",
   "execution_count": null,
   "id": "da631ac5",
   "metadata": {},
   "outputs": [],
   "source": []
  }
 ],
 "metadata": {
  "kernelspec": {
   "display_name": "Python 3 (ipykernel)",
   "language": "python",
   "name": "python3"
  },
  "language_info": {
   "codemirror_mode": {
    "name": "ipython",
    "version": 3
   },
   "file_extension": ".py",
   "mimetype": "text/x-python",
   "name": "python",
   "nbconvert_exporter": "python",
   "pygments_lexer": "ipython3",
   "version": "3.11.4"
  }
 },
 "nbformat": 4,
 "nbformat_minor": 5
}
